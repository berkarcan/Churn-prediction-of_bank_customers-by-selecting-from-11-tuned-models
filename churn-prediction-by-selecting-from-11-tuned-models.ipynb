{
 "cells": [
  {
   "cell_type": "markdown",
   "metadata": {},
   "source": [
    "# 1. Introduction "
   ]
  },
  {
   "cell_type": "markdown",
   "metadata": {},
   "source": [
    "##### This study predicts which bank customers will churn by means of machine learning modelling techniques. It presents a full machine learning work flow, use 11 Machine Learning algorithms, tune their parameters and ensemble the best n (e.g. 3) of them using their accuracy scores for the validation set. "
   ]
  },
  {
   "cell_type": "markdown",
   "metadata": {},
   "source": [
    "<font color = 'blue'>\n",
    " CONTENTS:  \n",
    "    \n",
    "   1. [Introduction](#1)\n",
    "       * 1.1 [Summary Information about the variables and their types in the data](#1.1)\n",
    "   2. [Exploratory Data Analysis](#2)\n",
    "       * 2.1 [Importing Libraries and Loading Data](#2.1)\n",
    "       * 2.2 [Basic summary statistics about the data](#2.2)            \n",
    "       * 2.3 [Visualizations](#2.3)\n",
    "           * 2.3.1 [Correlation matrix as heatmap](#4.1)\n",
    "           * 2.3.2 [Tenure and Exited](#4.2)\n",
    "           * 2.3.3 [Gender versus Exited](#4.3)\n",
    "           * 2.3.4 [Age versus Exited](#4.4)\n",
    "           * 2.3.5 [Balance versus Survived](#4.5)\n",
    "           * 2.3.6 [EstimatedSalary versus Exited](#4.6)\n",
    "           * 2.3.7 [Creeditscore versus Exited](#4.7)\n",
    "   3. [Data Preprocessing](#3)\n",
    "       * 3.1 [Splitting the data as train and validation data](#3.1)  \n",
    "       * 3.2 [Handling Categorical Variables](#3.6)\n",
    "           * 3.2.1 [Label encoding of gender variable and removing surname](#3.6.1)            \n",
    "           * 3.2.3 [One hot encoding of Geography (Country)](#3.6.2)   \n",
    "       * 3.3 [Memory Reduction](#3.3)\n",
    "   4. [Modeling, Model Evaluation and Model Tuning](#6)\n",
    "       * 4.1 [Validation Set Test Accuracy for the default models](#6.2) \n",
    "       * 4.2 [Cross validation accuracy and std of the default models for all the train data](#6.3)    \n",
    "       * 4.3 [Model tuning using crossvalidation](#6.4)   \n",
    "       * 4.4 [Ensembling first n (e.g. 5) models](#6.6) \n",
    "\n",
    " "
   ]
  },
  {
   "cell_type": "markdown",
   "metadata": {},
   "source": [
    "## 1.1 Summary Information about the variables and their types in the data <a id = '1.1'></a><br>\n",
    "\n"
   ]
  },
  {
   "cell_type": "markdown",
   "metadata": {},
   "source": [
    "* Surname          : The surname of the customer\n",
    "* CreditScore      : The credit score of the customer\n",
    "* Geography        : The country of the customer(Germany/France/Spain)\n",
    "* Gender           : The gender of the customer (Female/Male)\n",
    "* Age              : The age of the customer  \n",
    "* Tenure           : The customer's number of years in the in the bank \n",
    "* Balance          : The customer's account balance\n",
    "* NumOfProducts    : The number of bank products that the customer uses \n",
    "* HasCrCard        : Does the customer has a card? (0=No,1=Yes) \n",
    "* IsActiveMember   : Does the customer has an active mebership (0=No,1=Yes) \n",
    "* EstimatedSalary  : The estimated salary of the customer\n",
    "* Exited           : Churned or not? (0=No,1=Yes)"
   ]
  },
  {
   "cell_type": "markdown",
   "metadata": {
    "toc-hr-collapsed": true,
    "toc-nb-collapsed": true
   },
   "source": [
    "# 2. Exploratory Data Analysis <a id = '2'></a><br> "
   ]
  },
  {
   "cell_type": "markdown",
   "metadata": {},
   "source": [
    "### 2.1 Importing Libraries and Loading Data <a id = '2.1'></a><br>"
   ]
  },
  {
   "cell_type": "code",
   "execution_count": 1,
   "metadata": {},
   "outputs": [],
   "source": [
    "# data analysis libraries:\n",
    "import numpy as np\n",
    "import pandas as pd\n",
    "import re\n",
    "\n",
    "# data visualization libraries:\n",
    "import matplotlib.pyplot as plt\n",
    "import seaborn as sns\n",
    "\n",
    "# to ignore warnings:\n",
    "import sys\n",
    "if not sys.warnoptions:\n",
    "    import os, warnings\n",
    "    warnings.simplefilter(\"ignore\") \n",
    "    os.environ[\"PYTHONWARNINGS\"] = \"ignore\" \n",
    "\n",
    "# to display all columns:\n",
    "pd.set_option('display.max_columns', None)\n",
    "\n",
    "#timer\n",
    "import time\n",
    "from contextlib import contextmanager\n",
    "\n",
    "# Importing modelling libraries\n",
    "from sklearn.model_selection import train_test_split,GridSearchCV,cross_val_score,KFold\n",
    "from sklearn.preprocessing import StandardScaler  \n",
    "from sklearn.metrics import accuracy_score\n",
    "from sklearn.neighbors import KNeighborsClassifier\n",
    "from sklearn.discriminant_analysis import LinearDiscriminantAnalysis\n",
    "from sklearn.linear_model import LogisticRegression\n",
    "from sklearn.svm import SVC\n",
    "from sklearn.naive_bayes import GaussianNB\n",
    "from sklearn.tree import DecisionTreeClassifier\n",
    "from sklearn.ensemble import RandomForestClassifier,GradientBoostingClassifier,VotingClassifier,BaggingClassifier\n",
    "from xgboost import XGBClassifier\n",
    "from lightgbm import LGBMClassifier\n",
    "from catboost import CatBoostClassifier\n",
    "from sklearn.neural_network import MLPClassifier\n",
    "from sklearn.calibration import CalibratedClassifierCV\n",
    "pd.options.display.float_format = \"{:,.2f}\".format\n",
    "\n",
    "@contextmanager\n",
    "def timer(title):\n",
    "    t0 = time.time()\n",
    "    yield\n",
    "    print(\"{} done in {:.0f}s\".format(title, time.time() - t0))"
   ]
  },
  {
   "cell_type": "code",
   "execution_count": 2,
   "metadata": {},
   "outputs": [],
   "source": [
    "# Read train and test data with pd.read_csv():\n",
    "df = pd.read_csv(\"../input/predicting-churn-for-bank-customers/Churn_Modelling.csv\")"
   ]
  },
  {
   "cell_type": "code",
   "execution_count": 3,
   "metadata": {},
   "outputs": [
    {
     "data": {
      "text/html": [
       "<div>\n",
       "<style scoped>\n",
       "    .dataframe tbody tr th:only-of-type {\n",
       "        vertical-align: middle;\n",
       "    }\n",
       "\n",
       "    .dataframe tbody tr th {\n",
       "        vertical-align: top;\n",
       "    }\n",
       "\n",
       "    .dataframe thead th {\n",
       "        text-align: right;\n",
       "    }\n",
       "</style>\n",
       "<table border=\"1\" class=\"dataframe\">\n",
       "  <thead>\n",
       "    <tr style=\"text-align: right;\">\n",
       "      <th></th>\n",
       "      <th>RowNumber</th>\n",
       "      <th>CustomerId</th>\n",
       "      <th>Surname</th>\n",
       "      <th>CreditScore</th>\n",
       "      <th>Geography</th>\n",
       "      <th>Gender</th>\n",
       "      <th>Age</th>\n",
       "      <th>Tenure</th>\n",
       "      <th>Balance</th>\n",
       "      <th>NumOfProducts</th>\n",
       "      <th>HasCrCard</th>\n",
       "      <th>IsActiveMember</th>\n",
       "      <th>EstimatedSalary</th>\n",
       "      <th>Exited</th>\n",
       "    </tr>\n",
       "  </thead>\n",
       "  <tbody>\n",
       "    <tr>\n",
       "      <th>0</th>\n",
       "      <td>1</td>\n",
       "      <td>15634602</td>\n",
       "      <td>Hargrave</td>\n",
       "      <td>619</td>\n",
       "      <td>France</td>\n",
       "      <td>Female</td>\n",
       "      <td>42</td>\n",
       "      <td>2</td>\n",
       "      <td>0.00</td>\n",
       "      <td>1</td>\n",
       "      <td>1</td>\n",
       "      <td>1</td>\n",
       "      <td>101,348.88</td>\n",
       "      <td>1</td>\n",
       "    </tr>\n",
       "    <tr>\n",
       "      <th>1</th>\n",
       "      <td>2</td>\n",
       "      <td>15647311</td>\n",
       "      <td>Hill</td>\n",
       "      <td>608</td>\n",
       "      <td>Spain</td>\n",
       "      <td>Female</td>\n",
       "      <td>41</td>\n",
       "      <td>1</td>\n",
       "      <td>83,807.86</td>\n",
       "      <td>1</td>\n",
       "      <td>0</td>\n",
       "      <td>1</td>\n",
       "      <td>112,542.58</td>\n",
       "      <td>0</td>\n",
       "    </tr>\n",
       "    <tr>\n",
       "      <th>2</th>\n",
       "      <td>3</td>\n",
       "      <td>15619304</td>\n",
       "      <td>Onio</td>\n",
       "      <td>502</td>\n",
       "      <td>France</td>\n",
       "      <td>Female</td>\n",
       "      <td>42</td>\n",
       "      <td>8</td>\n",
       "      <td>159,660.80</td>\n",
       "      <td>3</td>\n",
       "      <td>1</td>\n",
       "      <td>0</td>\n",
       "      <td>113,931.57</td>\n",
       "      <td>1</td>\n",
       "    </tr>\n",
       "    <tr>\n",
       "      <th>3</th>\n",
       "      <td>4</td>\n",
       "      <td>15701354</td>\n",
       "      <td>Boni</td>\n",
       "      <td>699</td>\n",
       "      <td>France</td>\n",
       "      <td>Female</td>\n",
       "      <td>39</td>\n",
       "      <td>1</td>\n",
       "      <td>0.00</td>\n",
       "      <td>2</td>\n",
       "      <td>0</td>\n",
       "      <td>0</td>\n",
       "      <td>93,826.63</td>\n",
       "      <td>0</td>\n",
       "    </tr>\n",
       "    <tr>\n",
       "      <th>4</th>\n",
       "      <td>5</td>\n",
       "      <td>15737888</td>\n",
       "      <td>Mitchell</td>\n",
       "      <td>850</td>\n",
       "      <td>Spain</td>\n",
       "      <td>Female</td>\n",
       "      <td>43</td>\n",
       "      <td>2</td>\n",
       "      <td>125,510.82</td>\n",
       "      <td>1</td>\n",
       "      <td>1</td>\n",
       "      <td>1</td>\n",
       "      <td>79,084.10</td>\n",
       "      <td>0</td>\n",
       "    </tr>\n",
       "  </tbody>\n",
       "</table>\n",
       "</div>"
      ],
      "text/plain": [
       "   RowNumber  CustomerId   Surname  CreditScore Geography  Gender  Age  \\\n",
       "0          1    15634602  Hargrave          619    France  Female   42   \n",
       "1          2    15647311      Hill          608     Spain  Female   41   \n",
       "2          3    15619304      Onio          502    France  Female   42   \n",
       "3          4    15701354      Boni          699    France  Female   39   \n",
       "4          5    15737888  Mitchell          850     Spain  Female   43   \n",
       "\n",
       "   Tenure    Balance  NumOfProducts  HasCrCard  IsActiveMember  \\\n",
       "0       2       0.00              1          1               1   \n",
       "1       1  83,807.86              1          0               1   \n",
       "2       8 159,660.80              3          1               0   \n",
       "3       1       0.00              2          0               0   \n",
       "4       2 125,510.82              1          1               1   \n",
       "\n",
       "   EstimatedSalary  Exited  \n",
       "0       101,348.88       1  \n",
       "1       112,542.58       0  \n",
       "2       113,931.57       1  \n",
       "3        93,826.63       0  \n",
       "4        79,084.10       0  "
      ]
     },
     "execution_count": 3,
     "metadata": {},
     "output_type": "execute_result"
    }
   ],
   "source": [
    "df.head()"
   ]
  },
  {
   "cell_type": "code",
   "execution_count": 4,
   "metadata": {},
   "outputs": [
    {
     "name": "stdout",
     "output_type": "stream",
     "text": [
      "<class 'pandas.core.frame.DataFrame'>\n",
      "RangeIndex: 10000 entries, 0 to 9999\n",
      "Data columns (total 14 columns):\n",
      " #   Column           Non-Null Count  Dtype  \n",
      "---  ------           --------------  -----  \n",
      " 0   RowNumber        10000 non-null  int64  \n",
      " 1   CustomerId       10000 non-null  int64  \n",
      " 2   Surname          10000 non-null  object \n",
      " 3   CreditScore      10000 non-null  int64  \n",
      " 4   Geography        10000 non-null  object \n",
      " 5   Gender           10000 non-null  object \n",
      " 6   Age              10000 non-null  int64  \n",
      " 7   Tenure           10000 non-null  int64  \n",
      " 8   Balance          10000 non-null  float64\n",
      " 9   NumOfProducts    10000 non-null  int64  \n",
      " 10  HasCrCard        10000 non-null  int64  \n",
      " 11  IsActiveMember   10000 non-null  int64  \n",
      " 12  EstimatedSalary  10000 non-null  float64\n",
      " 13  Exited           10000 non-null  int64  \n",
      "dtypes: float64(2), int64(9), object(3)\n",
      "memory usage: 1.1+ MB\n"
     ]
    }
   ],
   "source": [
    "df.info()"
   ]
  },
  {
   "cell_type": "markdown",
   "metadata": {},
   "source": [
    "## 2.2 Basic summary statistics about the data <a id = '2.2'></a><br>"
   ]
  },
  {
   "cell_type": "markdown",
   "metadata": {},
   "source": [
    "##### Descriptive statistics excluding CustomerId and row number which do not carry any meaningful information for Survival."
   ]
  },
  {
   "cell_type": "code",
   "execution_count": 5,
   "metadata": {},
   "outputs": [
    {
     "data": {
      "text/html": [
       "<div>\n",
       "<style scoped>\n",
       "    .dataframe tbody tr th:only-of-type {\n",
       "        vertical-align: middle;\n",
       "    }\n",
       "\n",
       "    .dataframe tbody tr th {\n",
       "        vertical-align: top;\n",
       "    }\n",
       "\n",
       "    .dataframe thead th {\n",
       "        text-align: right;\n",
       "    }\n",
       "</style>\n",
       "<table border=\"1\" class=\"dataframe\">\n",
       "  <thead>\n",
       "    <tr style=\"text-align: right;\">\n",
       "      <th></th>\n",
       "      <th>count</th>\n",
       "      <th>mean</th>\n",
       "      <th>std</th>\n",
       "      <th>min</th>\n",
       "      <th>1%</th>\n",
       "      <th>10%</th>\n",
       "      <th>25%</th>\n",
       "      <th>50%</th>\n",
       "      <th>75%</th>\n",
       "      <th>99%</th>\n",
       "      <th>max</th>\n",
       "    </tr>\n",
       "  </thead>\n",
       "  <tbody>\n",
       "    <tr>\n",
       "      <th>CreditScore</th>\n",
       "      <td>10,000.00</td>\n",
       "      <td>650.53</td>\n",
       "      <td>96.65</td>\n",
       "      <td>350.00</td>\n",
       "      <td>432.00</td>\n",
       "      <td>521.00</td>\n",
       "      <td>584.00</td>\n",
       "      <td>652.00</td>\n",
       "      <td>718.00</td>\n",
       "      <td>850.00</td>\n",
       "      <td>850.00</td>\n",
       "    </tr>\n",
       "    <tr>\n",
       "      <th>Age</th>\n",
       "      <td>10,000.00</td>\n",
       "      <td>38.92</td>\n",
       "      <td>10.49</td>\n",
       "      <td>18.00</td>\n",
       "      <td>21.00</td>\n",
       "      <td>27.00</td>\n",
       "      <td>32.00</td>\n",
       "      <td>37.00</td>\n",
       "      <td>44.00</td>\n",
       "      <td>72.00</td>\n",
       "      <td>92.00</td>\n",
       "    </tr>\n",
       "    <tr>\n",
       "      <th>Tenure</th>\n",
       "      <td>10,000.00</td>\n",
       "      <td>5.01</td>\n",
       "      <td>2.89</td>\n",
       "      <td>0.00</td>\n",
       "      <td>0.00</td>\n",
       "      <td>1.00</td>\n",
       "      <td>3.00</td>\n",
       "      <td>5.00</td>\n",
       "      <td>7.00</td>\n",
       "      <td>10.00</td>\n",
       "      <td>10.00</td>\n",
       "    </tr>\n",
       "    <tr>\n",
       "      <th>Balance</th>\n",
       "      <td>10,000.00</td>\n",
       "      <td>76,485.89</td>\n",
       "      <td>62,397.41</td>\n",
       "      <td>0.00</td>\n",
       "      <td>0.00</td>\n",
       "      <td>0.00</td>\n",
       "      <td>0.00</td>\n",
       "      <td>97,198.54</td>\n",
       "      <td>127,644.24</td>\n",
       "      <td>185,967.99</td>\n",
       "      <td>250,898.09</td>\n",
       "    </tr>\n",
       "    <tr>\n",
       "      <th>NumOfProducts</th>\n",
       "      <td>10,000.00</td>\n",
       "      <td>1.53</td>\n",
       "      <td>0.58</td>\n",
       "      <td>1.00</td>\n",
       "      <td>1.00</td>\n",
       "      <td>1.00</td>\n",
       "      <td>1.00</td>\n",
       "      <td>1.00</td>\n",
       "      <td>2.00</td>\n",
       "      <td>3.00</td>\n",
       "      <td>4.00</td>\n",
       "    </tr>\n",
       "    <tr>\n",
       "      <th>HasCrCard</th>\n",
       "      <td>10,000.00</td>\n",
       "      <td>0.71</td>\n",
       "      <td>0.46</td>\n",
       "      <td>0.00</td>\n",
       "      <td>0.00</td>\n",
       "      <td>0.00</td>\n",
       "      <td>0.00</td>\n",
       "      <td>1.00</td>\n",
       "      <td>1.00</td>\n",
       "      <td>1.00</td>\n",
       "      <td>1.00</td>\n",
       "    </tr>\n",
       "    <tr>\n",
       "      <th>IsActiveMember</th>\n",
       "      <td>10,000.00</td>\n",
       "      <td>0.52</td>\n",
       "      <td>0.50</td>\n",
       "      <td>0.00</td>\n",
       "      <td>0.00</td>\n",
       "      <td>0.00</td>\n",
       "      <td>0.00</td>\n",
       "      <td>1.00</td>\n",
       "      <td>1.00</td>\n",
       "      <td>1.00</td>\n",
       "      <td>1.00</td>\n",
       "    </tr>\n",
       "    <tr>\n",
       "      <th>EstimatedSalary</th>\n",
       "      <td>10,000.00</td>\n",
       "      <td>100,090.24</td>\n",
       "      <td>57,510.49</td>\n",
       "      <td>11.58</td>\n",
       "      <td>1,842.83</td>\n",
       "      <td>20,273.58</td>\n",
       "      <td>51,002.11</td>\n",
       "      <td>100,193.91</td>\n",
       "      <td>149,388.25</td>\n",
       "      <td>198,069.73</td>\n",
       "      <td>199,992.48</td>\n",
       "    </tr>\n",
       "    <tr>\n",
       "      <th>Exited</th>\n",
       "      <td>10,000.00</td>\n",
       "      <td>0.20</td>\n",
       "      <td>0.40</td>\n",
       "      <td>0.00</td>\n",
       "      <td>0.00</td>\n",
       "      <td>0.00</td>\n",
       "      <td>0.00</td>\n",
       "      <td>0.00</td>\n",
       "      <td>0.00</td>\n",
       "      <td>1.00</td>\n",
       "      <td>1.00</td>\n",
       "    </tr>\n",
       "  </tbody>\n",
       "</table>\n",
       "</div>"
      ],
      "text/plain": [
       "                    count       mean       std    min       1%       10%  \\\n",
       "CreditScore     10,000.00     650.53     96.65 350.00   432.00    521.00   \n",
       "Age             10,000.00      38.92     10.49  18.00    21.00     27.00   \n",
       "Tenure          10,000.00       5.01      2.89   0.00     0.00      1.00   \n",
       "Balance         10,000.00  76,485.89 62,397.41   0.00     0.00      0.00   \n",
       "NumOfProducts   10,000.00       1.53      0.58   1.00     1.00      1.00   \n",
       "HasCrCard       10,000.00       0.71      0.46   0.00     0.00      0.00   \n",
       "IsActiveMember  10,000.00       0.52      0.50   0.00     0.00      0.00   \n",
       "EstimatedSalary 10,000.00 100,090.24 57,510.49  11.58 1,842.83 20,273.58   \n",
       "Exited          10,000.00       0.20      0.40   0.00     0.00      0.00   \n",
       "\n",
       "                      25%        50%        75%        99%        max  \n",
       "CreditScore        584.00     652.00     718.00     850.00     850.00  \n",
       "Age                 32.00      37.00      44.00      72.00      92.00  \n",
       "Tenure               3.00       5.00       7.00      10.00      10.00  \n",
       "Balance              0.00  97,198.54 127,644.24 185,967.99 250,898.09  \n",
       "NumOfProducts        1.00       1.00       2.00       3.00       4.00  \n",
       "HasCrCard            0.00       1.00       1.00       1.00       1.00  \n",
       "IsActiveMember       0.00       1.00       1.00       1.00       1.00  \n",
       "EstimatedSalary 51,002.11 100,193.91 149,388.25 198,069.73 199,992.48  \n",
       "Exited               0.00       0.00       0.00       1.00       1.00  "
      ]
     },
     "execution_count": 5,
     "metadata": {},
     "output_type": "execute_result"
    }
   ],
   "source": [
    "df.iloc[:,2:len(df)].describe([0.01,0.1,0.25,0.5,0.75,0.99]).T"
   ]
  },
  {
   "cell_type": "code",
   "execution_count": 6,
   "metadata": {},
   "outputs": [
    {
     "name": "stdout",
     "output_type": "stream",
     "text": [
      "           Mean_Exited\n",
      "Geography             \n",
      "France            0.16\n",
      "Germany           0.32\n",
      "Spain             0.17\n",
      "\n",
      "\n",
      "        Mean_Exited\n",
      "Gender             \n",
      "Female         0.25\n",
      "Male           0.16\n",
      "\n",
      "\n",
      "        Mean_Exited\n",
      "Tenure             \n",
      "0              0.23\n",
      "1              0.22\n",
      "2              0.19\n",
      "3              0.21\n",
      "4              0.21\n",
      "5              0.21\n",
      "6              0.20\n",
      "7              0.17\n",
      "8              0.19\n",
      "9              0.22\n",
      "10             0.21\n",
      "\n",
      "\n",
      "               Mean_Exited\n",
      "NumOfProducts             \n",
      "1                     0.28\n",
      "2                     0.08\n",
      "3                     0.83\n",
      "4                     1.00\n",
      "\n",
      "\n",
      "           Mean_Exited\n",
      "HasCrCard             \n",
      "0                 0.21\n",
      "1                 0.20\n",
      "\n",
      "\n",
      "                Mean_Exited\n",
      "IsActiveMember             \n",
      "0                      0.27\n",
      "1                      0.14\n",
      "\n",
      "\n"
     ]
    }
   ],
   "source": [
    "    for var in df:\n",
    "        if var != 'Exited':\n",
    "            if len(list(df[var].unique())) <= 11:\n",
    "                    print(pd.DataFrame({'Mean_Exited': df.groupby(var)['Exited'].mean()}), end = \"\\n\\n\\n\")"
   ]
  },
  {
   "cell_type": "markdown",
   "metadata": {},
   "source": [
    "## 2.3 Visualizations <a id = '2.3'></a><br> "
   ]
  },
  {
   "cell_type": "markdown",
   "metadata": {},
   "source": [
    "In this section we are going to illustrate the relationship between variables by using visualization tools."
   ]
  },
  {
   "cell_type": "markdown",
   "metadata": {},
   "source": [
    "### 2.3.1 Correlation matrix <a id = '4.1'></a><br>"
   ]
  },
  {
   "cell_type": "code",
   "execution_count": 7,
   "metadata": {},
   "outputs": [
    {
     "data": {
      "image/png": "[encoded data removed]",
      "text/plain": [
       "<Figure size 864x432 with 2 Axes>"
      ]
     },
     "metadata": {
      "needs_background": "light"
     },
     "output_type": "display_data"
    }
   ],
   "source": [
    "# Let's visualize the correlations between numerical features of the train set.\n",
    "fig, ax = plt.subplots(figsize=(12,6)) \n",
    "sns.heatmap(df.loc[:,'Surname':'Exited'].corr(), annot = True, fmt = \".2f\", linewidths=0.5, ax=ax) \n",
    "plt.show()"
   ]
  },
  {
   "cell_type": "markdown",
   "metadata": {},
   "source": [
    "### 2.3.2 Tenure and Exited <a id = '4.2'></a><br>       "
   ]
  },
  {
   "cell_type": "markdown",
   "metadata": {},
   "source": [
    "In the mid tenure level there is less exit."
   ]
  },
  {
   "cell_type": "code",
   "execution_count": 8,
   "metadata": {},
   "outputs": [
    {
     "data": {
      "image/png": "[encoded data removed]",
      "text/plain": [
       "<Figure size 288x288 with 1 Axes>"
      ]
     },
     "metadata": {
      "needs_background": "light"
     },
     "output_type": "display_data"
    }
   ],
   "source": [
    "g= sns.factorplot(x = \"Tenure\", y = \"Exited\", data = df, kind = \"bar\", size = 4)\n",
    "g.set_ylabels(\"Churn Probability\")\n",
    "plt.show()"
   ]
  },
  {
   "cell_type": "raw",
   "metadata": {},
   "source": [
    "df['Tenure'].head()"
   ]
  },
  {
   "cell_type": "markdown",
   "metadata": {},
   "source": [
    " ### 2.3.3 Gender and Exited <a id = '4.3'></a><br>       "
   ]
  },
  {
   "cell_type": "markdown",
   "metadata": {},
   "source": [
    "Females exits more."
   ]
  },
  {
   "cell_type": "code",
   "execution_count": 9,
   "metadata": {},
   "outputs": [
    {
     "data": {
      "image/png": "[encoded data removed]",
      "text/plain": [
       "<Figure size 360x360 with 1 Axes>"
      ]
     },
     "metadata": {
      "needs_background": "light"
     },
     "output_type": "display_data"
    }
   ],
   "source": [
    "g= sns.factorplot(x = \"Gender\", y = \"Exited\", data = df, kind = \"bar\", size = 5)\n",
    "g.set_ylabels(\"Churn Probability\")\n",
    "plt.show()"
   ]
  },
  {
   "cell_type": "markdown",
   "metadata": {},
   "source": [
    " ### 2.3.4 Age versus Exited <a id = '4.4'></a><br>   "
   ]
  },
  {
   "cell_type": "code",
   "execution_count": 10,
   "metadata": {},
   "outputs": [
    {
     "data": {
      "image/png": "[encoded data removed]",
      "text/plain": [
       "<Figure size 432x216 with 2 Axes>"
      ]
     },
     "metadata": {
      "needs_background": "light"
     },
     "output_type": "display_data"
    }
   ],
   "source": [
    "g= sns.FacetGrid(df, col = \"Exited\")\n",
    "g.map(sns.distplot, \"Age\", bins = 25)\n",
    "plt.show()"
   ]
  },
  {
   "cell_type": "markdown",
   "metadata": {},
   "source": [
    " ### 2.3.5 Balance versus Exited <a id = '4.4'></a><br>   "
   ]
  },
  {
   "cell_type": "code",
   "execution_count": 11,
   "metadata": {},
   "outputs": [
    {
     "data": {
      "image/png": "[encoded data removed]",
      "text/plain": [
       "<Figure size 432x216 with 2 Axes>"
      ]
     },
     "metadata": {
      "needs_background": "light"
     },
     "output_type": "display_data"
    }
   ],
   "source": [
    "g= sns.FacetGrid(df, col = \"Exited\")\n",
    "g.map(sns.distplot, \"Balance\", bins = 25)\n",
    "plt.show()"
   ]
  },
  {
   "cell_type": "markdown",
   "metadata": {},
   "source": [
    " ### 2.6 EstimatedSalary versus Exited <a id = '4.4'></a><br>   "
   ]
  },
  {
   "cell_type": "markdown",
   "metadata": {},
   "source": [
    "Although the they are similar, there seems to be slightly higher salaries for the exited customers."
   ]
  },
  {
   "cell_type": "code",
   "execution_count": 12,
   "metadata": {},
   "outputs": [
    {
     "data": {
      "image/png": "[encoded data removed]",
      "text/plain": [
       "<Figure size 432x216 with 2 Axes>"
      ]
     },
     "metadata": {
      "needs_background": "light"
     },
     "output_type": "display_data"
    }
   ],
   "source": [
    "g= sns.FacetGrid(df, col = \"Exited\")\n",
    "g.map(sns.distplot, \"EstimatedSalary\", bins = 25)\n",
    "plt.show()"
   ]
  },
  {
   "cell_type": "markdown",
   "metadata": {},
   "source": [
    " ## 2.3.7 Creeditscore versus Exited <a id = '4.7'></a><br>   "
   ]
  },
  {
   "cell_type": "code",
   "execution_count": 13,
   "metadata": {},
   "outputs": [
    {
     "data": {
      "image/png": "[encoded data removed]",
      "text/plain": [
       "<Figure size 432x216 with 2 Axes>"
      ]
     },
     "metadata": {
      "needs_background": "light"
     },
     "output_type": "display_data"
    }
   ],
   "source": [
    "g= sns.FacetGrid(df, col = \"Exited\")\n",
    "g.map(sns.distplot, \"CreditScore\", bins = 25)\n",
    "plt.show()"
   ]
  },
  {
   "cell_type": "markdown",
   "metadata": {},
   "source": [
    "# 3. Data Preprocessing <a id = '3'></a><br> "
   ]
  },
  {
   "cell_type": "markdown",
   "metadata": {},
   "source": [
    "There is no missing value in the data as seen in section 2.2. In addition, from decriptive statistics we can see that  median and mean values are very similar for most of the numerical variables."
   ]
  },
  {
   "cell_type": "markdown",
   "metadata": {},
   "source": [
    "## 3.1 Splitting the data as train and validation data <a id = '3.1'></a><br>"
   ]
  },
  {
   "cell_type": "raw",
   "metadata": {},
   "source": [
    "The given data is splitted into train and validation sets to test the accuracy of training with the untrained 20% of the sample."
   ]
  },
  {
   "cell_type": "code",
   "execution_count": 14,
   "metadata": {},
   "outputs": [],
   "source": [
    "##\n",
    "xs = df.drop(['RowNumber',\"Exited\"], axis=1)\n",
    "target = df[\"Exited\"]\n",
    "x_train, x_val, y_train, y_val = train_test_split(xs, target, test_size = 0.20, random_state = 0)\n",
    "\n",
    "val_ids = x_val['CustomerId']\n",
    "train_ids=x_train['CustomerId']\n",
    "\n",
    "x_train = x_train.drop(['CustomerId'], axis=1)\n",
    "x_val= x_val.drop(['CustomerId'], axis=1)\n",
    "\n",
    "df_train=df[df['CustomerId'].isin(train_ids)]\n",
    "df_val=df[df['CustomerId'].isin(val_ids)]"
   ]
  },
  {
   "cell_type": "code",
   "execution_count": 15,
   "metadata": {},
   "outputs": [
    {
     "data": {
      "text/plain": [
       "(8000, 11)"
      ]
     },
     "execution_count": 15,
     "metadata": {},
     "output_type": "execute_result"
    }
   ],
   "source": [
    "x_train.shape"
   ]
  },
  {
   "cell_type": "markdown",
   "metadata": {},
   "source": [
    "## 3.3 Handling Categorical Variables <a id = '3.6'></a><br>"
   ]
  },
  {
   "cell_type": "markdown",
   "metadata": {},
   "source": [
    "### 3.3.1 Label encoding of gender variable and removing surname <a id = '3.6.1'></a><br>"
   ]
  },
  {
   "cell_type": "code",
   "execution_count": 16,
   "metadata": {},
   "outputs": [],
   "source": [
    "for df in [x_train,x_val]:\n",
    "    df[\"Gender\"]=df[\"Gender\"].map(lambda x: 0 if x=='Female' else 1)\n",
    "    df.drop(['Surname'], axis = 1, inplace=True)"
   ]
  },
  {
   "cell_type": "markdown",
   "metadata": {},
   "source": [
    "### 3.3.2 One hot encoding of Geography (Country) <a id = '3.6.2'></a><br>"
   ]
  },
  {
   "cell_type": "code",
   "execution_count": 17,
   "metadata": {},
   "outputs": [],
   "source": [
    "x_train,x_val= [ pd.get_dummies(data, columns = ['Geography']) for data in [x_train,x_val]]"
   ]
  },
  {
   "cell_type": "code",
   "execution_count": 18,
   "metadata": {},
   "outputs": [
    {
     "data": {
      "text/plain": [
       "(8000, 12)"
      ]
     },
     "execution_count": 18,
     "metadata": {},
     "output_type": "execute_result"
    }
   ],
   "source": [
    "x_train.shape"
   ]
  },
  {
   "cell_type": "code",
   "execution_count": 19,
   "metadata": {},
   "outputs": [
    {
     "name": "stdout",
     "output_type": "stream",
     "text": [
      "<class 'pandas.core.frame.DataFrame'>\n",
      "Int64Index: 8000 entries, 7389 to 2732\n",
      "Data columns (total 12 columns):\n",
      " #   Column             Non-Null Count  Dtype  \n",
      "---  ------             --------------  -----  \n",
      " 0   CreditScore        8000 non-null   int64  \n",
      " 1   Gender             8000 non-null   int64  \n",
      " 2   Age                8000 non-null   int64  \n",
      " 3   Tenure             8000 non-null   int64  \n",
      " 4   Balance            8000 non-null   float64\n",
      " 5   NumOfProducts      8000 non-null   int64  \n",
      " 6   HasCrCard          8000 non-null   int64  \n",
      " 7   IsActiveMember     8000 non-null   int64  \n",
      " 8   EstimatedSalary    8000 non-null   float64\n",
      " 9   Geography_France   8000 non-null   uint8  \n",
      " 10  Geography_Germany  8000 non-null   uint8  \n",
      " 11  Geography_Spain    8000 non-null   uint8  \n",
      "dtypes: float64(2), int64(7), uint8(3)\n",
      "memory usage: 648.4 KB\n"
     ]
    }
   ],
   "source": [
    "x_train.info()"
   ]
  },
  {
   "cell_type": "markdown",
   "metadata": {},
   "source": [
    "## 3.4 Memory Reduction <a id = '3.4'></a><br>"
   ]
  },
  {
   "cell_type": "code",
   "execution_count": 20,
   "metadata": {},
   "outputs": [],
   "source": [
    "def reduce_mem_usage(df, verbose=True):\n",
    "    numerics = ['int16', 'int32', 'int64', 'float16', 'float32', 'float64']\n",
    "    start_mem = df.memory_usage().sum() / 1024**2\n",
    "    for col in df.columns:\n",
    "        col_type = df[col].dtypes\n",
    "        if col_type in numerics:\n",
    "            c_min = df[col].min()\n",
    "            c_max = df[col].max()\n",
    "            if str(col_type)[:3] == 'int':\n",
    "                if c_min > np.iinfo(np.int8).min and c_max < np.iinfo(np.int8).max:\n",
    "                    df[col] = df[col].astype(np.int8)\n",
    "                elif c_min > np.iinfo(np.int16).min and c_max < np.iinfo(np.int16).max:\n",
    "                    df[col] = df[col].astype(np.int16)\n",
    "                elif c_min > np.iinfo(np.int32).min and c_max < np.iinfo(np.int32).max:\n",
    "                    df[col] = df[col].astype(np.int32)\n",
    "                elif c_min > np.iinfo(np.int64).min and c_max < np.iinfo(np.int64).max:\n",
    "                    df[col] = df[col].astype(np.int64)\n",
    "            else:\n",
    "                if c_min > np.finfo(np.float16).min and c_max < np.finfo(np.float16).max:\n",
    "                    df[col] = df[col].astype(np.float16)\n",
    "                elif c_min > np.finfo(np.float32).min and c_max < np.finfo(np.float32).max:\n",
    "                    df[col] = df[col].astype(np.float32)\n",
    "                else:\n",
    "                    df[col] = df[col].astype(np.float64)\n",
    "\n",
    "    end_mem = df.memory_usage().sum() / 1024**2\n",
    "    print('Memory usage after optimization is: {:.2f} MB'.format(end_mem))\n",
    "    print('Decreased by {:.1f}%'.format(100 * (start_mem - end_mem) / start_mem))\n",
    "\n",
    "    return df"
   ]
  },
  {
   "cell_type": "code",
   "execution_count": 21,
   "metadata": {},
   "outputs": [
    {
     "name": "stdout",
     "output_type": "stream",
     "text": [
      "Memory usage after optimization is: 0.21 MB\n",
      "Decreased by 67.5%\n",
      "Memory usage after optimization is: 0.05 MB\n",
      "Decreased by 67.5%\n"
     ]
    }
   ],
   "source": [
    "for df in [x_train,x_val]:\n",
    "    reduce_mem_usage(df)    "
   ]
  },
  {
   "cell_type": "markdown",
   "metadata": {
    "toc-hr-collapsed": false
   },
   "source": [
    "<a id = '6'></a><br> \n",
    "# 4. Modeling, Evaluation and Model Tuning  "
   ]
  },
  {
   "cell_type": "markdown",
   "metadata": {},
   "source": [
    "## 4.1 Validation Set Accuracy for the default models <a id = '6.2'></a><br>"
   ]
  },
  {
   "cell_type": "code",
   "execution_count": 22,
   "metadata": {},
   "outputs": [],
   "source": [
    "r=1309\n",
    "models = [LogisticRegression(random_state=r),GaussianNB(), KNeighborsClassifier(),\n",
    "          SVC(random_state=r,probability=True),BaggingClassifier(random_state=r),DecisionTreeClassifier(random_state=r),\n",
    "          RandomForestClassifier(random_state=r), GradientBoostingClassifier(random_state=r),\n",
    "          XGBClassifier(random_state=r), MLPClassifier(random_state=r),\n",
    "          CatBoostClassifier(random_state=r,verbose = False)]\n",
    "names = [\"LogisticRegression\",\"GaussianNB\",\"KNN\",\"SVC\",\"Bagging\",\n",
    "             \"DecisionTree\",\"Random_Forest\",\"GBM\",\"XGBoost\",\"Art.Neural_Network\",\"CatBoost\"]"
   ]
  },
  {
   "cell_type": "code",
   "execution_count": 23,
   "metadata": {
    "_cell_guid": "bcfef788-53b1-47b3-9415-89b551840bd7",
    "_uuid": "7d3745861c316a25489e7c03c7de706fa00f0303"
   },
   "outputs": [
    {
     "name": "stdout",
     "output_type": "stream",
     "text": [
      "Default model validation accuracies for the train data:\n",
      "\n",
      "LogisticRegression : 0.789\n",
      "GaussianNB : 0.784\n",
      "KNN : 0.764\n",
      "SVC : 0.797\n",
      "Bagging : 0.854\n",
      "DecisionTree : 0.805\n",
      "Random_Forest : 0.868\n",
      "GBM : 0.869\n",
      "XGBoost : 0.853\n",
      "Art.Neural_Network : 0.795\n",
      "CatBoost : 0.862\n"
     ]
    }
   ],
   "source": [
    "print('Default model validation accuracies for the train data:', end = \"\\n\\n\")\n",
    "for name, model in zip(names, models):\n",
    "    model.fit(x_train, y_train)\n",
    "    y_pred = model.predict(x_val) \n",
    "    print(name,':',\"%.3f\" % accuracy_score(y_pred, y_val))"
   ]
  },
  {
   "cell_type": "markdown",
   "metadata": {},
   "source": [
    "## 4.2 Cross validation accuracy and std of the default models for all the train data <a id = '6.3'></a><br>"
   ]
  },
  {
   "cell_type": "code",
   "execution_count": 24,
   "metadata": {},
   "outputs": [],
   "source": [
    "predictors=pd.concat([x_train,x_val])"
   ]
  },
  {
   "cell_type": "code",
   "execution_count": 25,
   "metadata": {},
   "outputs": [
    {
     "name": "stdout",
     "output_type": "stream",
     "text": [
      "10 fold Cross validation accuracy and std of the default models for the train data:\n",
      "\n",
      "LogisticRegression: 0.796 (0.010)\n",
      "GaussianNB: 0.796 (0.010)\n",
      "KNN: 0.760 (0.012)\n",
      "SVC: 0.796 (0.010)\n",
      "Bagging: 0.779 (0.011)\n",
      "DecisionTree: 0.660 (0.012)\n",
      "Random_Forest: 0.794 (0.009)\n",
      "GBM: 0.795 (0.011)\n",
      "XGBoost: 0.782 (0.011)\n",
      "Art.Neural_Network: 0.660 (0.181)\n",
      "CatBoost: 0.796 (0.010)\n"
     ]
    }
   ],
   "source": [
    "results = []\n",
    "print('10 fold Cross validation accuracy and std of the default models for the train data:', end = \"\\n\\n\")\n",
    "for name, model in zip(names, models):\n",
    "    kfold = KFold(n_splits=10, random_state=1001)\n",
    "    cv_results = cross_val_score(model, predictors, target, cv = kfold, scoring = \"accuracy\")\n",
    "    results.append(cv_results)\n",
    "    print(\"{}: {} ({})\".format(name, \"%.3f\" % cv_results.mean() ,\"%.3f\" %  cv_results.std()))"
   ]
  },
  {
   "cell_type": "markdown",
   "metadata": {},
   "source": [
    "## 4.3 Model tuning using crossvalidation <a id = '6.4'></a><br>"
   ]
  },
  {
   "cell_type": "code",
   "execution_count": 26,
   "metadata": {},
   "outputs": [],
   "source": [
    "# Possible hyper parameters\n",
    "logreg_params= {\"C\":np.logspace(-1, 1, 10),\n",
    "                    \"penalty\": [\"l1\",\"l2\"], \"solver\":['lbfgs', 'liblinear', 'sag', 'saga'], \"max_iter\":[1000]}\n",
    "\n",
    "NB_params = {'var_smoothing': np.logspace(0,-9, num=100)}\n",
    "knn_params= {\"n_neighbors\": np.linspace(1,19,10, dtype = int).tolist(),\n",
    "                 \"weights\": [\"uniform\",\"distance\"],\n",
    "                 \"metric\":[\"euclidean\",\"manhattan\"]}\n",
    "svc_params= {\"kernel\" : [\"rbf\"],\n",
    "                 \"gamma\": [0.001, 0.01, 0.1, 1, 5, 10 ,50 ,100],\n",
    "                 \"C\": [1,10,50,100,200,300,1000]}\n",
    "bag_params={\"n_estimators\":[50,120,300]}\n",
    "dtree_params = {\"min_samples_split\" : range(10,500,20),\n",
    "                \"max_depth\": range(1,20,2)}\n",
    "rf_params = {\"max_features\": [\"log2\",\"auto\",\"sqrt\"],\n",
    "                \"min_samples_split\":[2,3,5],\n",
    "                \"min_samples_leaf\":[1,3,5],\n",
    "                \"bootstrap\":[True,False],\n",
    "                \"n_estimators\":[50,100,150],\n",
    "                \"criterion\":[\"gini\",\"entropy\"]}\n",
    "gbm_params = {\"learning_rate\" : [0.001, 0.01, 0.1, 0.05],\n",
    "             \"n_estimators\": [100,500,100],\n",
    "             \"max_depth\": [3,5,10],\n",
    "             \"min_samples_split\": [2,5,10]}\n",
    "gbm_params = {\"learning_rate\" : [0.001, 0.01, 0.1, 0.05],\n",
    "             \"n_estimators\": [100,500,100],\n",
    "             \"max_depth\": [3,5,10],\n",
    "             \"min_samples_split\": [2,5,10]}\n",
    "\n",
    "xgb_params ={\n",
    "        'n_estimators': [50, 100, 200],\n",
    "        'subsample': [ 0.6, 0.8, 1.0],\n",
    "        'max_depth': [1,2,3,4],\n",
    "        'learning_rate': [0.1,0.2, 0.3, 0.4, 0.5],\n",
    "        \"min_samples_split\": [1,2,4,6]}\n",
    "\n",
    "mlpc_params = {\"alpha\": [0.1, 0.01, 0.02, 0.005, 0.0001,0.00001],\n",
    "              \"hidden_layer_sizes\": [(10,10,10),\n",
    "                                     (100,100,100),\n",
    "                                     (100,100),\n",
    "                                     (3,5), \n",
    "                                     (5, 3)],\n",
    "              \"solver\" : [\"lbfgs\",\"adam\",\"sgd\"],\"max_iter\":[1000]}\n",
    "catb_params =  {'depth':[2, 3, 4],\n",
    "              'loss_function': ['Logloss', 'CrossEntropy'],\n",
    "              'l2_leaf_reg':np.arange(2,31)}\n",
    "classifier_params = [logreg_params,NB_params,knn_params,svc_params,bag_params,dtree_params,rf_params,\n",
    "                     gbm_params, xgb_params,mlpc_params,catb_params]               \n",
    "                  "
   ]
  },
  {
   "cell_type": "code",
   "execution_count": 27,
   "metadata": {},
   "outputs": [
    {
     "name": "stdout",
     "output_type": "stream",
     "text": [
      "LogisticRegression cross validation accuracy : 0.810\n",
      ">Model tuning done in 197s\n",
      "GaussianNB cross validation accuracy : 0.796\n",
      ">Model tuning done in 3s\n",
      "KNN cross validation accuracy : 0.794\n",
      ">Model tuning done in 6s\n",
      "SVC cross validation accuracy : 0.796\n",
      ">Model tuning done in 3687s\n",
      "Bagging cross validation accuracy : 0.853\n",
      ">Model tuning done in 59s\n",
      "DecisionTree cross validation accuracy : 0.857\n",
      ">Model tuning done in 26s\n",
      "Random_Forest cross validation accuracy : 0.865\n",
      ">Model tuning done in 1736s\n",
      "GBM cross validation accuracy : 0.864\n",
      ">Model tuning done in 2230s\n",
      "XGBoost cross validation accuracy : 0.866\n",
      ">Model tuning done in 1518s\n",
      "Art.Neural_Network cross validation accuracy : 0.796\n",
      ">Model tuning done in 2291s\n",
      "CatBoost cross validation accuracy : 0.868\n",
      ">Model tuning done in 4413s\n"
     ]
    }
   ],
   "source": [
    "# Tuning by Cross Validation  \n",
    "cv_result = {}\n",
    "best_estimators = {}\n",
    "for name, model,classifier_param in zip(names, models,classifier_params):\n",
    "    with timer(\">Model tuning\"):\n",
    "        clf = GridSearchCV(model, param_grid=classifier_param, cv =10, scoring = \"accuracy\", n_jobs = -1,verbose = False)\n",
    "        clf.fit(x_train,y_train)\n",
    "        cv_result[name]=clf.best_score_\n",
    "        best_estimators[name]=clf.best_estimator_\n",
    "        print(name,'cross validation accuracy : %.3f'%cv_result[name])"
   ]
  },
  {
   "cell_type": "code",
   "execution_count": 28,
   "metadata": {},
   "outputs": [
    {
     "name": "stdout",
     "output_type": "stream",
     "text": [
      "Validation accuracies of the tuned models for the train data:\n",
      "\n",
      "LogisticRegression : 0.813\n",
      "GaussianNB : 0.797\n",
      "KNN : 0.795\n",
      "SVC : 0.797\n",
      "Bagging : 0.861\n",
      "DecisionTree : 0.863\n",
      "Random_Forest : 0.865\n",
      "GBM : 0.867\n",
      "XGBoost : 0.863\n",
      "Art.Neural_Network : 0.797\n",
      "CatBoost : 0.865\n"
     ]
    }
   ],
   "source": [
    "accuracies={}\n",
    "print('Validation accuracies of the tuned models for the train data:', end = \"\\n\\n\")\n",
    "for name, model_tuned in zip(best_estimators.keys(),best_estimators.values()):\n",
    "    y_pred =  model_tuned.fit(x_train,y_train).predict(x_val)\n",
    "    accuracy=accuracy_score(y_pred, y_val)\n",
    "    print(name,':', \"%.3f\" %accuracy)\n",
    "    accuracies[name]=accuracy"
   ]
  },
  {
   "cell_type": "markdown",
   "metadata": {},
   "source": [
    "## 4.4 Ensembling first n (e.g. 3) models <a id = '6.6'></a><br>"
   ]
  },
  {
   "cell_type": "code",
   "execution_count": 29,
   "metadata": {},
   "outputs": [],
   "source": [
    "n=3\n",
    "accu=sorted(accuracies, reverse=True, key= lambda k:accuracies[k])[:n]\n",
    "firstn=[[k,v] for k,v in best_estimators.items() if k in accu]"
   ]
  },
  {
   "cell_type": "code",
   "execution_count": 30,
   "metadata": {},
   "outputs": [
    {
     "name": "stdout",
     "output_type": "stream",
     "text": [
      "0.8685\n"
     ]
    }
   ],
   "source": [
    "# Ensembling First n Score\n",
    "\n",
    "votingC = VotingClassifier(estimators = firstn, voting = \"soft\", n_jobs = -1)\n",
    "votingC = votingC.fit(x_train, y_train)\n",
    "print(accuracy_score(votingC.predict(x_val),y_val))"
   ]
  }
 ],
 "metadata": {
  "kernelspec": {
   "display_name": "Python 3",
   "language": "python",
   "name": "python3"
  },
  "language_info": {
   "codemirror_mode": {
    "name": "ipython",
    "version": 3
   },
   "file_extension": ".py",
   "mimetype": "text/x-python",
   "name": "python",
   "nbconvert_exporter": "python",
   "pygments_lexer": "ipython3",
   "version": "3.7.6"
  },
  "toc-autonumbering": false,
  "toc-showcode": true,
  "toc-showmarkdowntxt": true,
  "toc-showtags": true
 },
 "nbformat": 4,
 "nbformat_minor": 4
}
